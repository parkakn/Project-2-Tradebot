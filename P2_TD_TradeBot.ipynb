{
 "cells": [
  {
   "cell_type": "markdown",
   "metadata": {},
   "source": [
    "## Reference\n",
    "JSON in Python: https://www.geeksforgeeks.org/json-with-python/ \\\n",
    "Main reference: https://ryankemmer.medium.com/algorithmic-trading-with-python-and-td-ameritrade-ec00fb47f57 \\\n",
    "https://github.com/alexgolec/tda-api \\\n",
    "https://developer.tdameritrade.com/home\n",
    "\n",
    "Robinhood Tradebot: https://www.activestate.com/blog/how-to-build-an-algorithmic-trading-bot/ \\\n",
    "Interactive Broker Tradebot: https://algotrading101.com/learn/interactive-brokers-python-api-native-guide/ \\"
   ]
  },
  {
   "cell_type": "code",
   "execution_count": 1,
   "metadata": {},
   "outputs": [],
   "source": [
    "#Packages needed for current project\n",
    "\n",
    "#pip install tda-api\n",
    "#pip install webdriver-manager \n",
    "#pip install selenium\n",
    "#pip install schedule\n",
    "\n",
    "from tda import auth, client\n",
    "from webdriver_manager.chrome import ChromeDriverManager\n",
    "import json\n",
    "import pandas as pd\n",
    "from datetime import datetime\n",
    "import schedule, time\n",
    "import pandas as pd\n",
    "import numpy as np\n",
    "from statistics import mean\n",
    "from statistics import stdev\n",
    "from tda.orders.equities import equity_buy_market, equity_sell_market\n",
    "from tda.orders.common import Duration, Session\n"
   ]
  },
  {
   "cell_type": "markdown",
   "metadata": {},
   "source": [
    "### A. Authentication"
   ]
  },
  {
   "cell_type": "code",
   "execution_count": 4,
   "metadata": {},
   "outputs": [],
   "source": [
    "def auth_func():\n",
    "\n",
    "    token_path = 'token.pickle.shany'\n",
    "    api_key = 'QXXA0K3LVUDBPX3CAJHKRCK99WCI5GTB'\n",
    "    callback_url = 'https://localhost'\n",
    "    try:\n",
    "        c = auth.client_from_token_file(token_path, api_key)\n",
    "    except FileNotFoundError:\n",
    "        from selenium import webdriver\n",
    "        with webdriver.Chrome(ChromeDriverManager().install()) as driver:\n",
    "            c = auth.client_from_login_flow(\n",
    "                driver,api_key, callback_url , token_path)\n",
    "    '''\n",
    "    r = c.get_price_history('AAPL',\n",
    "        period_type=client.Client.PriceHistory.PeriodType.YEAR,\n",
    "        period=client.Client.PriceHistory.Period.ONE_YEAR,\n",
    "        frequency_type=client.Client.PriceHistory.FrequencyType.WEEKLY,\n",
    "        frequency=client.Client.PriceHistory.Frequency.WEEKLY)\n",
    "    assert r.status_code == 200, r.raise_for_status()\n",
    "    x = json.dumps(r.json(), indent=4)     #Type of r.json() is dict. / json.dump(x,y) converts dict. to JSON data type\n",
    "    y = r.json()\n",
    "    z = y['candles']                       #Selecting column/data from dict. calls the category name\n",
    "    zz = pd.DataFrame(z)\n",
    "    zzz = zz.datetime\n",
    "    print(type(zzz))\n",
    "    print(zz)\n",
    "    #####\n",
    "    y = json.dumps(z)\n",
    "    df = pd.read_json(y)                   #Converts datetime from microxxx to normal datetime\n",
    "    print(df) '''\n",
    "    return c\n"
   ]
  },
  {
   "cell_type": "code",
   "execution_count": 5,
   "metadata": {},
   "outputs": [
    {
     "name": "stdout",
     "output_type": "stream",
     "text": [
      "\n"
     ]
    },
    {
     "name": "stderr",
     "output_type": "stream",
     "text": [
      "[WDM] - ====== WebDriver manager ======\n",
      "[WDM] - Current google-chrome version is 103.0.5060\n",
      "[WDM] - Get LATEST chromedriver version for 103.0.5060 google-chrome\n",
      "[WDM] - There is no [win32] chromedriver for browser 103.0.5060 in cache\n",
      "[WDM] - About to download new driver from https://chromedriver.storage.googleapis.com/103.0.5060.134/chromedriver_win32.zip\n",
      "[WDM] - Driver has been saved in cache [C:\\Users\\parka\\.wdm\\drivers\\chromedriver\\win32\\103.0.5060.134]\n",
      "<ipython-input-4-73a173c93ae0>:10: DeprecationWarning: executable_path has been deprecated, please pass in a Service object\n",
      "  with webdriver.Chrome(ChromeDriverManager().install()) as driver:\n"
     ]
    },
    {
     "name": "stdout",
     "output_type": "stream",
     "text": [
      "\n",
      "**************************************************************\n",
      "\n",
      "Opening the login page in a webdriver. Please use this window to log in. Successful login will be detected automatically.\n",
      "\n",
      "If you encounter any issues, see here for troubleshooting: https://tda-api.readthedocs.io/en/stable/auth.html#troubleshooting\n",
      "\n",
      "**************************************************************\n",
      "\n"
     ]
    },
    {
     "ename": "RedirectTimeoutError",
     "evalue": "timed out waiting for redirect",
     "output_type": "error",
     "traceback": [
      "\u001b[1;31m---------------------------------------------------------------------------\u001b[0m",
      "\u001b[1;31mFileNotFoundError\u001b[0m                         Traceback (most recent call last)",
      "\u001b[1;32m<ipython-input-4-73a173c93ae0>\u001b[0m in \u001b[0;36mauth_func\u001b[1;34m()\u001b[0m\n\u001b[0;32m      6\u001b[0m     \u001b[1;32mtry\u001b[0m\u001b[1;33m:\u001b[0m\u001b[1;33m\u001b[0m\u001b[1;33m\u001b[0m\u001b[0m\n\u001b[1;32m----> 7\u001b[1;33m         \u001b[0mc\u001b[0m \u001b[1;33m=\u001b[0m \u001b[0mauth\u001b[0m\u001b[1;33m.\u001b[0m\u001b[0mclient_from_token_file\u001b[0m\u001b[1;33m(\u001b[0m\u001b[0mtoken_path\u001b[0m\u001b[1;33m,\u001b[0m \u001b[0mapi_key\u001b[0m\u001b[1;33m)\u001b[0m\u001b[1;33m\u001b[0m\u001b[1;33m\u001b[0m\u001b[0m\n\u001b[0m\u001b[0;32m      8\u001b[0m     \u001b[1;32mexcept\u001b[0m \u001b[0mFileNotFoundError\u001b[0m\u001b[1;33m:\u001b[0m\u001b[1;33m\u001b[0m\u001b[1;33m\u001b[0m\u001b[0m\n",
      "\u001b[1;32m~\\anaconda3\\lib\\site-packages\\tda\\auth.py\u001b[0m in \u001b[0;36mclient_from_token_file\u001b[1;34m(token_path, api_key, asyncio, enforce_enums)\u001b[0m\n\u001b[0;32m     95\u001b[0m \u001b[1;33m\u001b[0m\u001b[0m\n\u001b[1;32m---> 96\u001b[1;33m     return client_from_access_functions(\n\u001b[0m\u001b[0;32m     97\u001b[0m         \u001b[0mapi_key\u001b[0m\u001b[1;33m,\u001b[0m \u001b[0mload\u001b[0m\u001b[1;33m,\u001b[0m \u001b[0m__update_token\u001b[0m\u001b[1;33m(\u001b[0m\u001b[0mtoken_path\u001b[0m\u001b[1;33m)\u001b[0m\u001b[1;33m,\u001b[0m \u001b[0masyncio\u001b[0m\u001b[1;33m=\u001b[0m\u001b[0masyncio\u001b[0m\u001b[1;33m,\u001b[0m\u001b[1;33m\u001b[0m\u001b[1;33m\u001b[0m\u001b[0m\n",
      "\u001b[1;32m~\\anaconda3\\lib\\site-packages\\tda\\auth.py\u001b[0m in \u001b[0;36mclient_from_access_functions\u001b[1;34m(api_key, token_read_func, token_write_func, asyncio, enforce_enums)\u001b[0m\n\u001b[0;32m    524\u001b[0m     '''\n\u001b[1;32m--> 525\u001b[1;33m     \u001b[0mtoken\u001b[0m \u001b[1;33m=\u001b[0m \u001b[0mtoken_read_func\u001b[0m\u001b[1;33m(\u001b[0m\u001b[1;33m)\u001b[0m\u001b[1;33m\u001b[0m\u001b[1;33m\u001b[0m\u001b[0m\n\u001b[0m\u001b[0;32m    526\u001b[0m \u001b[1;33m\u001b[0m\u001b[0m\n",
      "\u001b[1;32m~\\anaconda3\\lib\\site-packages\\tda\\auth.py\u001b[0m in \u001b[0;36mload_token\u001b[1;34m()\u001b[0m\n\u001b[0;32m     39\u001b[0m \u001b[1;33m\u001b[0m\u001b[0m\n\u001b[1;32m---> 40\u001b[1;33m         \u001b[1;32mwith\u001b[0m \u001b[0mopen\u001b[0m\u001b[1;33m(\u001b[0m\u001b[0mtoken_path\u001b[0m\u001b[1;33m,\u001b[0m \u001b[1;34m'rb'\u001b[0m\u001b[1;33m)\u001b[0m \u001b[1;32mas\u001b[0m \u001b[0mf\u001b[0m\u001b[1;33m:\u001b[0m\u001b[1;33m\u001b[0m\u001b[1;33m\u001b[0m\u001b[0m\n\u001b[0m\u001b[0;32m     41\u001b[0m             \u001b[0mtoken_data\u001b[0m \u001b[1;33m=\u001b[0m \u001b[0mf\u001b[0m\u001b[1;33m.\u001b[0m\u001b[0mread\u001b[0m\u001b[1;33m(\u001b[0m\u001b[1;33m)\u001b[0m\u001b[1;33m\u001b[0m\u001b[1;33m\u001b[0m\u001b[0m\n",
      "\u001b[1;31mFileNotFoundError\u001b[0m: [Errno 2] No such file or directory: 'token.pickle.shany'",
      "\nDuring handling of the above exception, another exception occurred:\n",
      "\u001b[1;31mRedirectTimeoutError\u001b[0m                      Traceback (most recent call last)",
      "\u001b[1;32m<ipython-input-5-b19889693734>\u001b[0m in \u001b[0;36m<module>\u001b[1;34m\u001b[0m\n\u001b[1;32m----> 1\u001b[1;33m \u001b[0mauth_func\u001b[0m\u001b[1;33m(\u001b[0m\u001b[1;33m)\u001b[0m\u001b[1;33m\u001b[0m\u001b[1;33m\u001b[0m\u001b[0m\n\u001b[0m",
      "\u001b[1;32m<ipython-input-4-73a173c93ae0>\u001b[0m in \u001b[0;36mauth_func\u001b[1;34m()\u001b[0m\n\u001b[0;32m      9\u001b[0m         \u001b[1;32mfrom\u001b[0m \u001b[0mselenium\u001b[0m \u001b[1;32mimport\u001b[0m \u001b[0mwebdriver\u001b[0m\u001b[1;33m\u001b[0m\u001b[1;33m\u001b[0m\u001b[0m\n\u001b[0;32m     10\u001b[0m         \u001b[1;32mwith\u001b[0m \u001b[0mwebdriver\u001b[0m\u001b[1;33m.\u001b[0m\u001b[0mChrome\u001b[0m\u001b[1;33m(\u001b[0m\u001b[0mChromeDriverManager\u001b[0m\u001b[1;33m(\u001b[0m\u001b[1;33m)\u001b[0m\u001b[1;33m.\u001b[0m\u001b[0minstall\u001b[0m\u001b[1;33m(\u001b[0m\u001b[1;33m)\u001b[0m\u001b[1;33m)\u001b[0m \u001b[1;32mas\u001b[0m \u001b[0mdriver\u001b[0m\u001b[1;33m:\u001b[0m\u001b[1;33m\u001b[0m\u001b[1;33m\u001b[0m\u001b[0m\n\u001b[1;32m---> 11\u001b[1;33m             c = auth.client_from_login_flow(\n\u001b[0m\u001b[0;32m     12\u001b[0m                 driver,api_key, callback_url , token_path)\n\u001b[0;32m     13\u001b[0m     '''\n",
      "\u001b[1;32m~\\anaconda3\\lib\\site-packages\\tda\\auth.py\u001b[0m in \u001b[0;36mclient_from_login_flow\u001b[1;34m(webdriver, api_key, redirect_url, token_path, redirect_wait_time_seconds, max_waits, asyncio, token_write_func, enforce_enums)\u001b[0m\n\u001b[0;32m    341\u001b[0m \u001b[1;33m\u001b[0m\u001b[0m\n\u001b[0;32m    342\u001b[0m         \u001b[1;32mif\u001b[0m \u001b[0mnum_waits\u001b[0m \u001b[1;33m>\u001b[0m \u001b[0mmax_waits\u001b[0m\u001b[1;33m:\u001b[0m\u001b[1;33m\u001b[0m\u001b[1;33m\u001b[0m\u001b[0m\n\u001b[1;32m--> 343\u001b[1;33m             \u001b[1;32mraise\u001b[0m \u001b[0mRedirectTimeoutError\u001b[0m\u001b[1;33m(\u001b[0m\u001b[1;34m'timed out waiting for redirect'\u001b[0m\u001b[1;33m)\u001b[0m\u001b[1;33m\u001b[0m\u001b[1;33m\u001b[0m\u001b[0m\n\u001b[0m\u001b[0;32m    344\u001b[0m         \u001b[0mtime\u001b[0m\u001b[1;33m.\u001b[0m\u001b[0msleep\u001b[0m\u001b[1;33m(\u001b[0m\u001b[0mredirect_wait_time_seconds\u001b[0m\u001b[1;33m)\u001b[0m\u001b[1;33m\u001b[0m\u001b[1;33m\u001b[0m\u001b[0m\n\u001b[0;32m    345\u001b[0m         \u001b[0mnum_waits\u001b[0m \u001b[1;33m+=\u001b[0m \u001b[1;36m1\u001b[0m\u001b[1;33m\u001b[0m\u001b[1;33m\u001b[0m\u001b[0m\n",
      "\u001b[1;31mRedirectTimeoutError\u001b[0m: timed out waiting for redirect"
     ]
    }
   ],
   "source": [
    "auth_func()"
   ]
  },
  {
   "cell_type": "markdown",
   "metadata": {},
   "source": [
    "### B. Trading Strategy/ Algorithm "
   ]
  },
  {
   "cell_type": "code",
   "execution_count": 51,
   "metadata": {},
   "outputs": [],
   "source": [
    "#function to calculate moving averages\n",
    "#prices - pandas df of historical price\n",
    "#time_period - int, specifies lookback period\n",
    "def get_MovingAverage(prices, time_period):\n",
    "\n",
    "    prices = prices[-time_period:]\n",
    "    ma = mean(prices)\n",
    "    return ma\n",
    "\n",
    "#function to calculate bollinger bands\n",
    "#prices - pandas df of historical price\n",
    "#time_period - int, specifies lookback period\n",
    "def get_BBands(prices, time_period):\n",
    "\n",
    "    prices = prices[-time_period:]\n",
    "    print(prices)\n",
    "    ma = get_MovingAverage(prices, time_period)\n",
    "    std = stdev(prices)\n",
    "    bup = ma + 2*std\n",
    "    bdown = ma - 2*std\n",
    "    return bup, bdown\n",
    "\n",
    "#function to retrieve previous 30 minute closing prices \n",
    "#c - user authentication token\n",
    "#end - datetime of current time\n",
    "def get_prices(c, end, STOCK):\n",
    "\n",
    "    r = c.get_price_history(STOCK,\n",
    "                            period_type=client.Client.PriceHistory.PeriodType.DAY,\n",
    "                            period=client.Client.PriceHistory.Period.THREE_DAYS,\n",
    "                            frequency_type=client.Client.PriceHistory.FrequencyType.MINUTE,\n",
    "                            frequency=client.Client.PriceHistory.Frequency.EVERY_THIRTY_MINUTES,\n",
    "                            end_datetime=end,\n",
    "                            need_extended_hours_data=False\n",
    "                            )\n",
    "\n",
    "    assert r.status_code == 200, r.raise_for_status()\n",
    "\n",
    "    y = r.json()\n",
    "    y = y[\"candles\"]\n",
    "    y = json.dumps(y)\n",
    "    df = pd.read_json(y)\n",
    "    # drop last row\n",
    "    df = df[:-1]\n",
    "\n",
    "    return df"
   ]
  },
  {
   "cell_type": "markdown",
   "metadata": {},
   "source": [
    "### B2. Other Info. "
   ]
  },
  {
   "cell_type": "code",
   "execution_count": 52,
   "metadata": {},
   "outputs": [],
   "source": [
    "def get_cur_price(c, STOCK):\n",
    "        r = c.get_quote(STOCK)\n",
    "        assert r.status_code == 200, r.raise_for_status()\n",
    "        y = r.json()\n",
    "        print(y)\n",
    "        price = y[STOCK][\"lastPrice\"]\n",
    "        print(price)\n",
    "        return price\n"
   ]
  },
  {
   "cell_type": "code",
   "execution_count": 61,
   "metadata": {},
   "outputs": [],
   "source": [
    "def get_account(c):\n",
    "    r = c.get_account(ACCT_NUMBER)\n",
    "    assert r.status_code == 200, r.raise_for_status()\n",
    "\n",
    "    y = r.json()\n",
    "    print(y)\n",
    "    balance = y['securitiesAccount']['currentBalances']['cashBalance']\n",
    "    roundtrips = y['securitiesAccount']['roundTrips']\n",
    "\n",
    "    return balance, roundtrips\n",
    "\n",
    "#see if we currently have a position \n",
    "def get_position(c):\n",
    "\n",
    "    r = c.get_account(ACCT_NUMBER, fields=c.Account.Fields.POSITIONS)\n",
    "    assert r.status_code == 200, r.raise_for_status()\n",
    "\n",
    "    y = r.json()\n",
    "\n",
    "    if \"positions\" in y[\"securitiesAccount\"]:\n",
    "        print(y[\"securitiesAccount\"][\"positions\"][0])\n",
    "        print(len(y[\"securitiesAccount\"][\"positions\"]))\n",
    "        print(y[\"securitiesAccount\"][\"positions\"][0][\"instrument\"])\n",
    "        return True\n",
    "    else:\n",
    "        return False\n"
   ]
  },
  {
   "cell_type": "markdown",
   "metadata": {},
   "source": [
    "### B3. Placing Orders"
   ]
  },
  {
   "cell_type": "code",
   "execution_count": 53,
   "metadata": {},
   "outputs": [],
   "source": [
    "def place_order(c, order_type, shares, STOCK):\n",
    "\n",
    "    if order_type == 'buy':\n",
    "        order_spec = equity_buy_market(STOCK, shares).set_session(\n",
    "            Session.NORMAL).set_duration(Duration.DAY).build()\n",
    "        c.place_order(ACCT_NUMBER, order_spec)\n",
    "\n",
    "    if order_type == 'sell':\n",
    "        order_spec = equity_sell_market(STOCK, shares).set_session(\n",
    "            Session.NORMAL).set_duration(Duration.DAY).build()\n",
    "        c.place_order(ACCT_NUMBER, order_spec)"
   ]
  },
  {
   "cell_type": "markdown",
   "metadata": {},
   "source": [
    "### C. Execution"
   ]
  },
  {
   "cell_type": "code",
   "execution_count": 54,
   "metadata": {},
   "outputs": [],
   "source": [
    "def get_action():\n",
    "\n",
    "    c = auth_func()\n",
    "    now = datetime.now()\n",
    "    print(now)\n",
    "\n",
    "    try:\n",
    "        # get current position\n",
    "        position = get_position(c)\n",
    "        print('HAS POSITION: ' + str(position))\n",
    "        \n",
    "        for i in range(len(Look)):\n",
    "            hi = Look[i]\n",
    "            print(hi)\n",
    "            df = get_prices(c, now, hi)\n",
    "            bup, bdown = get_BBands(df.close, TIME_PERIOD)\n",
    "\n",
    "            # get current price\n",
    "            price = get_cur_price(c, hi)\n",
    "\n",
    "            # get account balance\n",
    "            balance, roundtrips = get_account(c)\n",
    "            \n",
    "            print(str(i) + \"th stock\")\n",
    "            print(\"Current balance \" + str(balance))\n",
    "            print(\"Current price \" + str(price))\n",
    "            print(\"High Band \" + str(bup))\n",
    "            print(\"Low Band \" + str(bdown))\n",
    "\n",
    "            # check if roundtrips is less than 2\n",
    "            '''if roundtrips < 2:\n",
    "\n",
    "                if price < bdown:\n",
    "                    if position == False:\n",
    "                        place_order(c, 'buy', 1, hi)\n",
    "                        print(\"Bought\")\n",
    "\n",
    "                if price > bup:\n",
    "                    if position == True:\n",
    "                        place_order(c, 'sell', 1, hi)\n",
    "                        print(\"Sold\")\n",
    "            '''\n",
    "    except:\n",
    "        print('Auth error')"
   ]
  },
  {
   "cell_type": "code",
   "execution_count": 66,
   "metadata": {},
   "outputs": [],
   "source": [
    "def main():\n",
    "\n",
    "    schedule.every().day.at(\"07:00\").do(get_action)\n",
    "    schedule.every().day.at(\"07:30\").do(get_action)\n",
    "    schedule.every().day.at(\"08:00\").do(get_action)\n",
    "    schedule.every().day.at(\"08:30\").do(get_action)\n",
    "    schedule.every().day.at(\"09:00\").do(get_action)\n",
    "    schedule.every().day.at(\"09:30\").do(get_action)\n",
    "    schedule.every().day.at(\"10:00\").do(get_action)\n",
    "    schedule.every().day.at(\"10:30\").do(get_action)\n",
    "    schedule.every().day.at(\"11:54\").do(get_action)\n",
    "    schedule.every().day.at(\"11:58\").do(get_action)\n",
    "    schedule.every().day.at(\"12:08\").do(get_action)\n",
    "    schedule.every().day.at(\"12:30\").do(get_action)\n",
    "    schedule.every().day.at(\"02:07\").do(get_action)\n",
    "\n",
    "    while True:\n",
    "        schedule.run_pending()\n",
    "        time.sleep(1)"
   ]
  },
  {
   "cell_type": "markdown",
   "metadata": {},
   "source": [
    "### C1. Deploy Bot"
   ]
  },
  {
   "cell_type": "code",
   "execution_count": 67,
   "metadata": {},
   "outputs": [],
   "source": [
    "Look = ['AAPL','META']\n",
    "TIME_PERIOD = 10\n",
    "ACCT_NUMBER = '275802489'\n"
   ]
  },
  {
   "cell_type": "code",
   "execution_count": 68,
   "metadata": {
    "scrolled": false
   },
   "outputs": [
    {
     "name": "stdout",
     "output_type": "stream",
     "text": [
      "2022-06-17 02:07:00.900249\n",
      "{'shortQuantity': 0.0, 'averagePrice': 244.57291, 'currentDayCost': 0.0, 'currentDayProfitLoss': -743.599999999999, 'currentDayProfitLossPercentage': -2.69, 'longQuantity': 110.0, 'settledLongQuantity': 110.0, 'settledShortQuantity': 0.0, 'instrument': {'assetType': 'EQUITY', 'cusip': '594918104', 'symbol': 'MSFT'}, 'marketValue': 26950.0, 'maintenanceRequirement': 8085.0, 'previousSessionLongQuantity': 110.0}\n",
      "12\n",
      "{'assetType': 'EQUITY', 'cusip': '594918104', 'symbol': 'MSFT'}\n",
      "HAS POSITION: True\n",
      "AAPL\n",
      "28    130.1281\n",
      "29    130.9100\n",
      "30    130.8900\n",
      "31    131.0100\n",
      "32    131.0400\n",
      "33    131.2550\n",
      "34    130.0200\n",
      "35    129.6850\n",
      "36    129.5500\n",
      "37    130.1150\n",
      "Name: close, dtype: float64\n",
      "{'AAPL': {'assetType': 'EQUITY', 'assetMainType': 'EQUITY', 'cusip': '037833100', 'assetSubType': '', 'symbol': 'AAPL', 'description': 'Apple Inc. - Common Stock', 'bidPrice': 130.53, 'bidSize': 100, 'bidId': 'P', 'askPrice': 130.55, 'askSize': 300, 'askId': 'P', 'lastPrice': 130.53, 'lastSize': 0, 'lastId': 'P', 'openPrice': 132.08, 'highPrice': 132.39, 'lowPrice': 129.04, 'bidTick': ' ', 'closePrice': 135.43, 'netChange': -4.9, 'totalVolume': 107961508, 'quoteTimeInLong': 1655423998804, 'tradeTimeInLong': 1655423998804, 'mark': 130.53, 'exchange': 'q', 'exchangeName': 'NASD', 'marginable': True, 'shortable': True, 'volatility': 0.0931, 'digits': 4, '52WkHigh': 182.94, '52WkLow': 128.461, 'nAV': 0.0, 'peRatio': 21.5795, 'divAmount': 0.92, 'divYield': 0.68, 'divDate': '2022-05-06 00:00:00.000', 'securityStatus': 'Normal', 'regularMarketLastPrice': 130.06, 'regularMarketLastSize': 110843, 'regularMarketNetChange': -5.37, 'regularMarketTradeTimeInLong': 1655409600840, 'netPercentChangeInDouble': -3.6181, 'markChangeInDouble': -4.9, 'markPercentChangeInDouble': -3.6181, 'regularMarketPercentChangeInDouble': -3.9651, 'delayed': False, 'realtimeEntitled': True}}\n",
      "130.53\n",
      "{'securitiesAccount': {'type': 'MARGIN', 'accountId': '275802489', 'roundTrips': 0, 'isDayTrader': True, 'isClosingOnlyRestricted': False, 'initialBalances': {'accruedInterest': 0.0, 'availableFundsNonMarginableTrade': 69398.68, 'bondValue': 0.0, 'buyingPower': 171676.06, 'cashBalance': 28.59, 'cashAvailableForTrading': 0.0, 'cashReceipts': 0.0, 'dayTradingBuyingPower': 321245.2, 'dayTradingBuyingPowerCall': 0.0, 'dayTradingEquityCall': 0.0, 'equity': 112400.23, 'equityPercentage': 100.0, 'liquidationValue': 112400.23, 'longMarginValue': 112371.64, 'longOptionMarketValue': 0.0, 'longStockValue': 112371.64, 'maintenanceCall': 0.0, 'maintenanceRequirement': 43001.55, 'margin': 28.59, 'marginEquity': 112400.23, 'moneyMarketFund': 0.0, 'mutualFundValue': 0.0, 'regTCall': 0.0, 'shortMarginValue': 0.0, 'shortOptionMarketValue': 0.0, 'shortStockValue': 0.0, 'totalCash': 0.0, 'isInCall': False, 'pendingDeposits': 0.0, 'marginBalance': 0.0, 'shortBalance': 0.0, 'accountValue': 112400.23}, 'currentBalances': {'accruedInterest': 0.0, 'cashBalance': 28.59, 'cashReceipts': 0.0, 'longOptionMarketValue': 0.0, 'liquidationValue': 112477.94, 'longMarketValue': 112449.35, 'moneyMarketFund': 0.0, 'savings': 0.0, 'shortMarketValue': 0.0, 'pendingDeposits': 0.0, 'availableFunds': 69429.08, 'availableFundsNonMarginableTrade': 69429.08, 'buyingPower': 171676.06, 'buyingPowerNonMarginableTrade': 69429.08, 'dayTradingBuyingPower': 321245.2, 'equity': 112477.94, 'equityPercentage': 100.0, 'longMarginValue': 112449.35, 'maintenanceCall': 0.0, 'maintenanceRequirement': 43048.86, 'marginBalance': 0.0, 'regTCall': 0.0, 'shortBalance': 0.0, 'shortMarginValue': 0.0, 'shortOptionMarketValue': 0.0, 'sma': 85838.03, 'mutualFundValue': 0.0, 'bondValue': 0.0}, 'projectedBalances': {'availableFunds': 69429.08, 'availableFundsNonMarginableTrade': 69429.08, 'buyingPower': 171676.06, 'dayTradingBuyingPower': 321245.2, 'dayTradingBuyingPowerCall': 0.0, 'maintenanceCall': 0.0, 'regTCall': 0.0, 'isInCall': False, 'stockBuyingPower': 171676.06}}}\n",
      "0th stock\n",
      "Current balance 28.59\n",
      "Current price 130.53\n",
      "High Band 131.7092796462818\n",
      "Low Band 129.21134035371819\n",
      "META\n",
      "28    160.080\n",
      "29    161.540\n",
      "30    161.385\n",
      "31    161.210\n",
      "32    162.095\n",
      "33    162.400\n",
      "34    159.960\n",
      "35    160.230\n",
      "36    160.090\n",
      "37    161.245\n",
      "Name: close, dtype: float64\n",
      "{'META': {'assetType': 'EQUITY', 'assetMainType': 'EQUITY', 'cusip': '30303M102', 'assetSubType': '', 'symbol': 'META', 'description': 'Meta Platforms, Inc. - Class A Common Stock', 'bidPrice': 161.5, 'bidSize': 100, 'bidId': 'P', 'askPrice': 161.65, 'askSize': 900, 'askId': 'P', 'lastPrice': 161.5, 'lastSize': 100, 'lastId': 'D', 'openPrice': 163.72, 'highPrice': 165.08, 'lowPrice': 159.61, 'bidTick': ' ', 'closePrice': 169.35, 'netChange': -7.85, 'totalVolume': 26944143, 'quoteTimeInLong': 1655423995038, 'tradeTimeInLong': 1655423998280, 'mark': 161.5, 'exchange': 'q', 'exchangeName': 'NASD', 'marginable': True, 'shortable': False, 'volatility': 0.0258, 'digits': 4, '52WkHigh': 384.33, '52WkLow': 159.61, 'nAV': 0.0, 'peRatio': 12.23, 'divAmount': 0.0, 'divYield': 0.0, 'divDate': '', 'securityStatus': 'Normal', 'regularMarketLastPrice': 160.87, 'regularMarketLastSize': 22078, 'regularMarketNetChange': -8.48, 'regularMarketTradeTimeInLong': 1655409600966, 'netPercentChangeInDouble': -4.6354, 'markChangeInDouble': -7.85, 'markPercentChangeInDouble': -4.6354, 'regularMarketPercentChangeInDouble': -5.0074, 'delayed': False, 'realtimeEntitled': True}}\n",
      "161.5\n",
      "{'securitiesAccount': {'type': 'MARGIN', 'accountId': '275802489', 'roundTrips': 0, 'isDayTrader': True, 'isClosingOnlyRestricted': False, 'initialBalances': {'accruedInterest': 0.0, 'availableFundsNonMarginableTrade': 69398.68, 'bondValue': 0.0, 'buyingPower': 171676.06, 'cashBalance': 28.59, 'cashAvailableForTrading': 0.0, 'cashReceipts': 0.0, 'dayTradingBuyingPower': 321245.2, 'dayTradingBuyingPowerCall': 0.0, 'dayTradingEquityCall': 0.0, 'equity': 112400.23, 'equityPercentage': 100.0, 'liquidationValue': 112400.23, 'longMarginValue': 112371.64, 'longOptionMarketValue': 0.0, 'longStockValue': 112371.64, 'maintenanceCall': 0.0, 'maintenanceRequirement': 43001.55, 'margin': 28.59, 'marginEquity': 112400.23, 'moneyMarketFund': 0.0, 'mutualFundValue': 0.0, 'regTCall': 0.0, 'shortMarginValue': 0.0, 'shortOptionMarketValue': 0.0, 'shortStockValue': 0.0, 'totalCash': 0.0, 'isInCall': False, 'pendingDeposits': 0.0, 'marginBalance': 0.0, 'shortBalance': 0.0, 'accountValue': 112400.23}, 'currentBalances': {'accruedInterest': 0.0, 'cashBalance': 28.59, 'cashReceipts': 0.0, 'longOptionMarketValue': 0.0, 'liquidationValue': 112477.94, 'longMarketValue': 112449.35, 'moneyMarketFund': 0.0, 'savings': 0.0, 'shortMarketValue': 0.0, 'pendingDeposits': 0.0, 'availableFunds': 69429.08, 'availableFundsNonMarginableTrade': 69429.08, 'buyingPower': 171676.06, 'buyingPowerNonMarginableTrade': 69429.08, 'dayTradingBuyingPower': 321245.2, 'equity': 112477.94, 'equityPercentage': 100.0, 'longMarginValue': 112449.35, 'maintenanceCall': 0.0, 'maintenanceRequirement': 43048.86, 'marginBalance': 0.0, 'regTCall': 0.0, 'shortBalance': 0.0, 'shortMarginValue': 0.0, 'shortOptionMarketValue': 0.0, 'sma': 85838.03, 'mutualFundValue': 0.0, 'bondValue': 0.0}, 'projectedBalances': {'availableFunds': 69429.08, 'availableFundsNonMarginableTrade': 69429.08, 'buyingPower': 171676.06, 'dayTradingBuyingPower': 321245.2, 'dayTradingBuyingPowerCall': 0.0, 'maintenanceCall': 0.0, 'regTCall': 0.0, 'isInCall': False, 'stockBuyingPower': 171676.06}}}\n",
      "1th stock\n",
      "Current balance 28.59\n",
      "Current price 161.5\n",
      "High Band 162.79317699500973\n",
      "Low Band 159.2538230049903\n"
     ]
    },
    {
     "ename": "KeyboardInterrupt",
     "evalue": "",
     "output_type": "error",
     "traceback": [
      "\u001b[1;31m---------------------------------------------------------------------------\u001b[0m",
      "\u001b[1;31mKeyboardInterrupt\u001b[0m                         Traceback (most recent call last)",
      "\u001b[1;32m<ipython-input-68-263240bbee7e>\u001b[0m in \u001b[0;36m<module>\u001b[1;34m\u001b[0m\n\u001b[1;32m----> 1\u001b[1;33m \u001b[0mmain\u001b[0m\u001b[1;33m(\u001b[0m\u001b[1;33m)\u001b[0m\u001b[1;33m\u001b[0m\u001b[1;33m\u001b[0m\u001b[0m\n\u001b[0m",
      "\u001b[1;32m<ipython-input-66-3cc8fe145213>\u001b[0m in \u001b[0;36mmain\u001b[1;34m()\u001b[0m\n\u001b[0;32m     17\u001b[0m     \u001b[1;32mwhile\u001b[0m \u001b[1;32mTrue\u001b[0m\u001b[1;33m:\u001b[0m\u001b[1;33m\u001b[0m\u001b[1;33m\u001b[0m\u001b[0m\n\u001b[0;32m     18\u001b[0m         \u001b[0mschedule\u001b[0m\u001b[1;33m.\u001b[0m\u001b[0mrun_pending\u001b[0m\u001b[1;33m(\u001b[0m\u001b[1;33m)\u001b[0m\u001b[1;33m\u001b[0m\u001b[1;33m\u001b[0m\u001b[0m\n\u001b[1;32m---> 19\u001b[1;33m         \u001b[0mtime\u001b[0m\u001b[1;33m.\u001b[0m\u001b[0msleep\u001b[0m\u001b[1;33m(\u001b[0m\u001b[1;36m1\u001b[0m\u001b[1;33m)\u001b[0m\u001b[1;33m\u001b[0m\u001b[1;33m\u001b[0m\u001b[0m\n\u001b[0m",
      "\u001b[1;31mKeyboardInterrupt\u001b[0m: "
     ]
    }
   ],
   "source": [
    "main()"
   ]
  },
  {
   "cell_type": "markdown",
   "metadata": {},
   "source": [
    "## Trial"
   ]
  },
  {
   "cell_type": "code",
   "execution_count": 74,
   "metadata": {},
   "outputs": [
    {
     "name": "stdout",
     "output_type": "stream",
     "text": [
      "[ 4.   4.1  4.2  4.3  4.4  4.5  4.6  4.7  4.8  4.9  5.   5.1  5.2  5.3\n",
      "  5.4  5.5  5.6  5.7  5.8  5.9  6.   6.1  6.2  6.3  6.4  6.5  6.6  6.7\n",
      "  6.8  6.9  7.   7.1  7.2  7.3  7.4  7.5  7.6  7.7  7.8  7.9  8.   8.1\n",
      "  8.2  8.3  8.4  8.5  8.6  8.7  8.8  8.9  9.   9.1  9.2  9.3  9.4  9.5\n",
      "  9.6  9.7  9.8  9.9 10.  10.1 10.2 10.3 10.4 10.5 10.6 10.7 10.8 10.9\n",
      " 11.  11.1 11.2 11.3 11.4 11.5 11.6 11.7 11.8 11.9 12.  12.1 12.2 12.3\n",
      " 12.4 12.5 12.6 12.7 12.8 12.9 13.  13.1 13.2 13.3 13.4 13.5 13.6 13.7\n",
      " 13.8 13.9 14. ]\n",
      "101\n",
      "LinearRegression()\n",
      "[[0.50009091]]\n"
     ]
    }
   ],
   "source": [
    "from sklearn.linear_model import LinearRegression\n",
    "\n",
    "xVals = np.linspace(4,14,101)\n",
    "print(xVals)\n",
    "print(len(xVals))\n",
    "x1 = np.array([10,8,13,9,11,14,6,4,12,7,5])\n",
    "y1 = np.array([8.04,6.95,7.58,8.81,8.33,9.96,7.24,4.26,10.84,4.82,5.68])\n",
    "model = LinearRegression().fit(x1.reshape(-1,1),y1.reshape(-1,1))\n",
    "print(model)\n",
    "print(model.coef_)"
   ]
  }
 ],
 "metadata": {
  "kernelspec": {
   "display_name": "Python 3",
   "language": "python",
   "name": "python3"
  },
  "language_info": {
   "codemirror_mode": {
    "name": "ipython",
    "version": 3
   },
   "file_extension": ".py",
   "mimetype": "text/x-python",
   "name": "python",
   "nbconvert_exporter": "python",
   "pygments_lexer": "ipython3",
   "version": "3.8.3"
  }
 },
 "nbformat": 4,
 "nbformat_minor": 4
}
